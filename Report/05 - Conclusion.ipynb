{
 "cells": [
  {
   "cell_type": "markdown",
   "id": "954ab006",
   "metadata": {},
   "source": [
    "One thing that we could have done that would have sped up the sequence model and may have provided better results is by removing words that only occur a couple of times. By removing infrequent words, we would have greatly reduced the size of the dictionary and many of those words are web addresses or similar, which are not particularly useful at finding the larger trends."
   ]
  }
 ],
 "metadata": {
  "kernelspec": {
   "display_name": "Python 3 (ipykernel)",
   "language": "python",
   "name": "python3"
  },
  "language_info": {
   "codemirror_mode": {
    "name": "ipython",
    "version": 3
   },
   "file_extension": ".py",
   "mimetype": "text/x-python",
   "name": "python",
   "nbconvert_exporter": "python",
   "pygments_lexer": "ipython3",
   "version": "3.8.10"
  }
 },
 "nbformat": 4,
 "nbformat_minor": 5
}
