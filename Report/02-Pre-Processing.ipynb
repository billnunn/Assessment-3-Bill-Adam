{
 "cells": [
  {
   "cell_type": "markdown",
   "id": "0b6407c2",
   "metadata": {},
   "source": [
    "## Pre-Processing\n"
   ]
  },
  {
   "cell_type": "code",
   "execution_count": 1,
   "id": "2b13b23e",
   "metadata": {},
   "outputs": [],
   "source": [
    "#!pip3 install nltk\n",
    "#!pip3 install gensim\n",
    "#!pip3 install pyLDAvis"
   ]
  },
  {
   "cell_type": "code",
   "execution_count": 2,
   "id": "60497e95",
   "metadata": {},
   "outputs": [],
   "source": [
    "import pandas as pd\n",
    "import requests\n",
    "import gensim\n",
    "import string\n",
    "import nltk\n",
    "from gensim.utils import simple_preprocess\n",
    "from gensim.parsing.preprocessing import STOPWORDS\n",
    "from nltk.corpus import wordnet as wn\n",
    "from nltk import word_tokenize, pos_tag\n",
    "from collections import defaultdict\n",
    "from nltk.stem import WordNetLemmatizer, SnowballStemmer\n",
    "from nltk.stem.porter import *\n",
    "from nltk.corpus import stopwords\n",
    "from nltk.tokenize import word_tokenize"
   ]
  },
  {
   "cell_type": "code",
   "execution_count": 3,
   "id": "e61a4698",
   "metadata": {},
   "outputs": [],
   "source": [
    "#nltk.download('popular')\n",
    "#nltk.download('stopwords')\n",
    "#nltk.download('punkt')\n",
    "#nltk.download('wordnet')\n",
    "#nltk.download('averaged_perceptron_tagger')\n",
    "#nltk.download('omw-1.4')"
   ]
  },
  {
   "cell_type": "code",
   "execution_count": 4,
   "id": "7d5fc648",
   "metadata": {},
   "outputs": [
    {
     "name": "stderr",
     "output_type": "stream",
     "text": [
      "/usr/local/lib/python3.8/dist-packages/IPython/core/interactiveshell.py:3444: DtypeWarning: Columns (7) have mixed types.Specify dtype option on import or set low_memory=False.\n",
      "  exec(code_obj, self.user_global_ns, self.user_ns)\n"
     ]
    },
    {
     "data": {
      "text/html": [
       "<div>\n",
       "<style scoped>\n",
       "    .dataframe tbody tr th:only-of-type {\n",
       "        vertical-align: middle;\n",
       "    }\n",
       "\n",
       "    .dataframe tbody tr th {\n",
       "        vertical-align: top;\n",
       "    }\n",
       "\n",
       "    .dataframe thead th {\n",
       "        text-align: right;\n",
       "    }\n",
       "</style>\n",
       "<table border=\"1\" class=\"dataframe\">\n",
       "  <thead>\n",
       "    <tr style=\"text-align: right;\">\n",
       "      <th></th>\n",
       "      <th>Name</th>\n",
       "      <th>Status</th>\n",
       "      <th>Description</th>\n",
       "      <th>References</th>\n",
       "      <th>Phase</th>\n",
       "      <th>Votes</th>\n",
       "      <th>Comments</th>\n",
       "    </tr>\n",
       "  </thead>\n",
       "  <tbody>\n",
       "    <tr>\n",
       "      <th>0</th>\n",
       "      <td>CVE-1999-0001</td>\n",
       "      <td>Candidate</td>\n",
       "      <td>ip_input.c in BSD-derived TCP/IP implementatio...</td>\n",
       "      <td>BUGTRAQ:19981223 Re: CERT Advisory CA-98.13 - ...</td>\n",
       "      <td>Modified (20051217)</td>\n",
       "      <td>MODIFY(1) Frech  |     NOOP(2) Northcutt, W...</td>\n",
       "      <td>Christey&gt; A Bugtraq posting indicates that the...</td>\n",
       "    </tr>\n",
       "    <tr>\n",
       "      <th>1</th>\n",
       "      <td>CVE-1999-0002</td>\n",
       "      <td>Entry</td>\n",
       "      <td>Buffer overflow in NFS mountd gives root acces...</td>\n",
       "      <td>BID:121   |   URL:http://www.securityfocus.com...</td>\n",
       "      <td>NaN</td>\n",
       "      <td>NaN</td>\n",
       "      <td>NaN</td>\n",
       "    </tr>\n",
       "    <tr>\n",
       "      <th>2</th>\n",
       "      <td>CVE-1999-0003</td>\n",
       "      <td>Entry</td>\n",
       "      <td>Execute commands as root via buffer overflow i...</td>\n",
       "      <td>BID:122   |   URL:http://www.securityfocus.com...</td>\n",
       "      <td>NaN</td>\n",
       "      <td>NaN</td>\n",
       "      <td>NaN</td>\n",
       "    </tr>\n",
       "    <tr>\n",
       "      <th>3</th>\n",
       "      <td>CVE-1999-0004</td>\n",
       "      <td>Candidate</td>\n",
       "      <td>MIME buffer overflow in email clients, e.g. So...</td>\n",
       "      <td>CERT:CA-98.10.mime_buffer_overflows   |   MS:M...</td>\n",
       "      <td>Modified (19990621)</td>\n",
       "      <td>ACCEPT(8) Baker, Cole, Collins, Dik, Landfi...</td>\n",
       "      <td>Frech&gt; Extremely minor, but I believe e-mail i...</td>\n",
       "    </tr>\n",
       "    <tr>\n",
       "      <th>4</th>\n",
       "      <td>CVE-1999-0005</td>\n",
       "      <td>Entry</td>\n",
       "      <td>Arbitrary command execution via IMAP buffer ov...</td>\n",
       "      <td>BID:130   |   URL:http://www.securityfocus.com...</td>\n",
       "      <td>NaN</td>\n",
       "      <td>NaN</td>\n",
       "      <td>NaN</td>\n",
       "    </tr>\n",
       "    <tr>\n",
       "      <th>...</th>\n",
       "      <td>...</td>\n",
       "      <td>...</td>\n",
       "      <td>...</td>\n",
       "      <td>...</td>\n",
       "      <td>...</td>\n",
       "      <td>...</td>\n",
       "      <td>...</td>\n",
       "    </tr>\n",
       "    <tr>\n",
       "      <th>227233</th>\n",
       "      <td>CVE-2022-24031</td>\n",
       "      <td>Candidate</td>\n",
       "      <td>** RESERVED ** This candidate has been reserve...</td>\n",
       "      <td>NaN</td>\n",
       "      <td>Assigned (20220126)</td>\n",
       "      <td>None (candidate not yet proposed)</td>\n",
       "      <td>NaN</td>\n",
       "    </tr>\n",
       "    <tr>\n",
       "      <th>227234</th>\n",
       "      <td>CVE-2022-24032</td>\n",
       "      <td>Candidate</td>\n",
       "      <td>** RESERVED ** This candidate has been reserve...</td>\n",
       "      <td>NaN</td>\n",
       "      <td>Assigned (20220126)</td>\n",
       "      <td>None (candidate not yet proposed)</td>\n",
       "      <td>NaN</td>\n",
       "    </tr>\n",
       "    <tr>\n",
       "      <th>227235</th>\n",
       "      <td>CVE-2022-24033</td>\n",
       "      <td>Candidate</td>\n",
       "      <td>** RESERVED ** This candidate has been reserve...</td>\n",
       "      <td>NaN</td>\n",
       "      <td>Assigned (20220126)</td>\n",
       "      <td>None (candidate not yet proposed)</td>\n",
       "      <td>NaN</td>\n",
       "    </tr>\n",
       "    <tr>\n",
       "      <th>227236</th>\n",
       "      <td>CVE-2022-24034</td>\n",
       "      <td>Candidate</td>\n",
       "      <td>** RESERVED ** This candidate has been reserve...</td>\n",
       "      <td>NaN</td>\n",
       "      <td>Assigned (20220126)</td>\n",
       "      <td>None (candidate not yet proposed)</td>\n",
       "      <td>NaN</td>\n",
       "    </tr>\n",
       "    <tr>\n",
       "      <th>227237</th>\n",
       "      <td>CVE-2022-24035</td>\n",
       "      <td>Candidate</td>\n",
       "      <td>** RESERVED ** This candidate has been reserve...</td>\n",
       "      <td>NaN</td>\n",
       "      <td>Assigned (20220126)</td>\n",
       "      <td>None (candidate not yet proposed)</td>\n",
       "      <td>NaN</td>\n",
       "    </tr>\n",
       "  </tbody>\n",
       "</table>\n",
       "<p>227238 rows × 7 columns</p>\n",
       "</div>"
      ],
      "text/plain": [
       "                  Name     Status  \\\n",
       "0        CVE-1999-0001  Candidate   \n",
       "1        CVE-1999-0002      Entry   \n",
       "2        CVE-1999-0003      Entry   \n",
       "3        CVE-1999-0004  Candidate   \n",
       "4        CVE-1999-0005      Entry   \n",
       "...                ...        ...   \n",
       "227233  CVE-2022-24031  Candidate   \n",
       "227234  CVE-2022-24032  Candidate   \n",
       "227235  CVE-2022-24033  Candidate   \n",
       "227236  CVE-2022-24034  Candidate   \n",
       "227237  CVE-2022-24035  Candidate   \n",
       "\n",
       "                                              Description  \\\n",
       "0       ip_input.c in BSD-derived TCP/IP implementatio...   \n",
       "1       Buffer overflow in NFS mountd gives root acces...   \n",
       "2       Execute commands as root via buffer overflow i...   \n",
       "3       MIME buffer overflow in email clients, e.g. So...   \n",
       "4       Arbitrary command execution via IMAP buffer ov...   \n",
       "...                                                   ...   \n",
       "227233  ** RESERVED ** This candidate has been reserve...   \n",
       "227234  ** RESERVED ** This candidate has been reserve...   \n",
       "227235  ** RESERVED ** This candidate has been reserve...   \n",
       "227236  ** RESERVED ** This candidate has been reserve...   \n",
       "227237  ** RESERVED ** This candidate has been reserve...   \n",
       "\n",
       "                                               References  \\\n",
       "0       BUGTRAQ:19981223 Re: CERT Advisory CA-98.13 - ...   \n",
       "1       BID:121   |   URL:http://www.securityfocus.com...   \n",
       "2       BID:122   |   URL:http://www.securityfocus.com...   \n",
       "3       CERT:CA-98.10.mime_buffer_overflows   |   MS:M...   \n",
       "4       BID:130   |   URL:http://www.securityfocus.com...   \n",
       "...                                                   ...   \n",
       "227233                                                NaN   \n",
       "227234                                                NaN   \n",
       "227235                                                NaN   \n",
       "227236                                                NaN   \n",
       "227237                                                NaN   \n",
       "\n",
       "                      Phase  \\\n",
       "0       Modified (20051217)   \n",
       "1                       NaN   \n",
       "2                       NaN   \n",
       "3       Modified (19990621)   \n",
       "4                       NaN   \n",
       "...                     ...   \n",
       "227233  Assigned (20220126)   \n",
       "227234  Assigned (20220126)   \n",
       "227235  Assigned (20220126)   \n",
       "227236  Assigned (20220126)   \n",
       "227237  Assigned (20220126)   \n",
       "\n",
       "                                                    Votes  \\\n",
       "0          MODIFY(1) Frech  |     NOOP(2) Northcutt, W...   \n",
       "1                                                     NaN   \n",
       "2                                                     NaN   \n",
       "3          ACCEPT(8) Baker, Cole, Collins, Dik, Landfi...   \n",
       "4                                                     NaN   \n",
       "...                                                   ...   \n",
       "227233                  None (candidate not yet proposed)   \n",
       "227234                  None (candidate not yet proposed)   \n",
       "227235                  None (candidate not yet proposed)   \n",
       "227236                  None (candidate not yet proposed)   \n",
       "227237                  None (candidate not yet proposed)   \n",
       "\n",
       "                                                 Comments  \n",
       "0       Christey> A Bugtraq posting indicates that the...  \n",
       "1                                                     NaN  \n",
       "2                                                     NaN  \n",
       "3       Frech> Extremely minor, but I believe e-mail i...  \n",
       "4                                                     NaN  \n",
       "...                                                   ...  \n",
       "227233                                                NaN  \n",
       "227234                                                NaN  \n",
       "227235                                                NaN  \n",
       "227236                                                NaN  \n",
       "227237                                                NaN  \n",
       "\n",
       "[227238 rows x 7 columns]"
      ]
     },
     "execution_count": 4,
     "metadata": {},
     "output_type": "execute_result"
    }
   ],
   "source": [
    "df = pd.read_csv(\"../data/raw/allitems.csv\", encoding='iso8859_15').drop(columns = ['Unnamed: 0'])\n",
    "df"
   ]
  },
  {
   "cell_type": "markdown",
   "id": "bb94e001",
   "metadata": {},
   "source": [
    "We remove all intances of \"\\*\\*\" as these vulnerabilties are highlighted to inform us that they are not valid, resons include that they are reserved for a later vulnerabitlity or are a duplicate of another CVE. We will also remove any CVEs from 2022 becuase we would be making judgements about the year based on 1 month's data which would "
   ]
  },
  {
   "cell_type": "code",
   "execution_count": 5,
   "id": "354101aa",
   "metadata": {
    "scrolled": true
   },
   "outputs": [],
   "source": [
    "df = df[~df.Description.str.startswith('**')]\n",
    "df = df[~df.Name.str.contains('2022')]\n",
    "desc = df['Description'].str.lower()"
   ]
  },
  {
   "cell_type": "code",
   "execution_count": 6,
   "id": "7923350a",
   "metadata": {},
   "outputs": [
    {
     "data": {
      "text/plain": [
       "0    ip_input.c in bsd-derived tcp/ip implementatio...\n",
       "1    buffer overflow in nfs mountd gives root acces...\n",
       "2    execute commands as root via buffer overflow i...\n",
       "3    mime buffer overflow in email clients, e.g. so...\n",
       "4    arbitrary command execution via imap buffer ov...\n",
       "5    buffer overflow in pop servers based on bsd/qu...\n",
       "6    information from ssl-encrypted sessions via pk...\n",
       "7    buffer overflow in nis+, in sun's rpc.nisd pro...\n",
       "8    inverse query buffer overflow in bind 4.9 and ...\n",
       "9    denial of service vulnerability in bind 8 rele...\n",
       "Name: Description, dtype: object"
      ]
     },
     "execution_count": 6,
     "metadata": {},
     "output_type": "execute_result"
    }
   ],
   "source": [
    "desc[0:10]"
   ]
  },
  {
   "cell_type": "markdown",
   "id": "48287918",
   "metadata": {},
   "source": [
    "Remove Numbers"
   ]
  },
  {
   "cell_type": "code",
   "execution_count": 7,
   "id": "cb94e799",
   "metadata": {
    "scrolled": true
   },
   "outputs": [],
   "source": [
    "from string import digits\n",
    "desc1 = ['']\n",
    "remove_digits = str.maketrans(\"\",\"\",digits)\n",
    "for line in desc:\n",
    "     desc1.append(line.translate(remove_digits))"
   ]
  },
  {
   "cell_type": "markdown",
   "id": "adafcc7d",
   "metadata": {},
   "source": [
    "Remove stop words, punctuation and lemmitize"
   ]
  },
  {
   "cell_type": "code",
   "execution_count": 8,
   "id": "92d0173d",
   "metadata": {},
   "outputs": [],
   "source": [
    "stop_words = stopwords.words('english')\n",
    "\n",
    "def remove_stop_words(text):\n",
    "    words = text.split(' ')\n",
    "    text1 = \" \".join([i for i in words if i not in stop_words])\n",
    "    return text1"
   ]
  },
  {
   "cell_type": "code",
   "execution_count": 9,
   "id": "a8e50f0e",
   "metadata": {},
   "outputs": [],
   "source": [
    "def clean_entry(text): \n",
    "    delete_dict = {sp_character: '' for sp_character in string.punctuation + string.digits}\n",
    "    delete_dict[' '] = ' ' \n",
    "    table = str.maketrans(delete_dict)\n",
    "    text1 = text.translate(table)\n",
    "\n",
    "    return text1"
   ]
  },
  {
   "cell_type": "code",
   "execution_count": 10,
   "id": "6dc0fbf6",
   "metadata": {},
   "outputs": [
    {
     "name": "stdout",
     "output_type": "stream",
     "text": [
      "['hi', 'my', 'name', 'is', 'bill', ',', 'you', \"'ll\", 'like', 'to', 'eat', '10', 'beans', '.', 'it', \"'s\", 'cold', '(', '2deg', ')', 'outside', '.']\n"
     ]
    }
   ],
   "source": [
    "test_string = \"hi my name is bill, you'll like to eat 10 beans. it's cold ( 2deg ) outside.\"\n",
    "test_tokens = word_tokenize(test_string)\n",
    "print(test_tokens)"
   ]
  },
  {
   "cell_type": "code",
   "execution_count": 11,
   "id": "ed0568e8",
   "metadata": {},
   "outputs": [
    {
     "name": "stdout",
     "output_type": "stream",
     "text": [
      "['hi', 'name', 'bill', 'youll', 'like', 'eat', 'beans', 'cold', 'deg', 'outside']\n",
      "['hi', 'name', 'bill', 'like', 'eat', 'beans', 'cold', 'deg', 'outside']\n"
     ]
    }
   ],
   "source": [
    "test_string1 = remove_stop_words(clean_entry(test_string))\n",
    "print(word_tokenize(test_string1))\n",
    "test_string2 = clean_entry(remove_stop_words(test_string))\n",
    "print(word_tokenize(test_string2))"
   ]
  },
  {
   "cell_type": "markdown",
   "id": "ff061b85",
   "metadata": {},
   "source": [
    "We see here the correct order to apply our functions is removal of stopwords and then cleaning. This is because words like `\"you'll\"` are in our stopword list but `\"youll\"` is not, and thus removing punctuation in the cleaning step messes us up if we do it before removing the stopwords. \n",
    "We may now apply our functions to `desc` to clean it up."
   ]
  },
  {
   "cell_type": "code",
   "execution_count": 12,
   "id": "df7affc3",
   "metadata": {},
   "outputs": [],
   "source": [
    "desc1 = desc.apply(remove_stop_words)\n",
    "desc1 = desc1.apply(clean_entry)"
   ]
  },
  {
   "cell_type": "code",
   "execution_count": 13,
   "id": "f3450590",
   "metadata": {},
   "outputs": [
    {
     "name": "stdout",
     "output_type": "stream",
     "text": [
      "ip_input.c in bsd-derived tcp/ip implementations allows remote attackers to cause a denial of service (crash or hang) via crafted packets.\n",
      "ipinputc bsdderived tcpip implementations allows remote attackers cause denial service crash hang via crafted packets\n"
     ]
    }
   ],
   "source": [
    "print(desc[0])\n",
    "print(desc1[0])"
   ]
  },
  {
   "cell_type": "markdown",
   "id": "d63655bc",
   "metadata": {},
   "source": [
    "I found out after doing the above that `gensim` has a list of stopwords which is much more comprehensive than the list in `nltk`. The code below is therefore almost a complete repeat of our `remove_stop_words` function. We will use both functions to ensure that we cover the largest range of stop words."
   ]
  },
  {
   "cell_type": "code",
   "execution_count": 14,
   "id": "4dc5a508",
   "metadata": {},
   "outputs": [],
   "source": [
    "all_stop_words = gensim.parsing.preprocessing.STOPWORDS\n",
    "\n",
    "def remove_all_stop_words(text):\n",
    "    words = text.split(' ')\n",
    "    text1 = \" \".join([i for i in words if i not in all_stop_words])\n",
    "    return text1"
   ]
  },
  {
   "cell_type": "markdown",
   "id": "456f5f8a",
   "metadata": {},
   "source": [
    "We can therefore generate produce a sparser representation (I call it `desc2`) of our descriptions than `desc1` if we want to. We see that it gets rid of stuff like `\"via\"`."
   ]
  },
  {
   "cell_type": "code",
   "execution_count": 15,
   "id": "f05494d0",
   "metadata": {},
   "outputs": [
    {
     "data": {
      "text/plain": [
       "'ipinputc bsdderived tcpip implementations allows remote attackers cause denial service crash hang crafted packets'"
      ]
     },
     "execution_count": 15,
     "metadata": {},
     "output_type": "execute_result"
    }
   ],
   "source": [
    "desc2 = desc1.apply(remove_all_stop_words)\n",
    "desc2[0]"
   ]
  },
  {
   "cell_type": "markdown",
   "id": "6fd16c28",
   "metadata": {},
   "source": [
    "Let's start the lemmatising."
   ]
  },
  {
   "cell_type": "code",
   "execution_count": 16,
   "id": "b38ea0f3",
   "metadata": {
    "scrolled": false
   },
   "outputs": [],
   "source": [
    "tag_map = defaultdict(lambda : wn.NOUN)\n",
    "tag_map['J'] = wn.ADJ\n",
    "tag_map['V'] = wn.VERB\n",
    "tag_map['R'] = wn.ADV\n",
    "\n",
    "desc3 = []\n",
    "for line in desc2:\n",
    "    tokens = word_tokenize(line)\n",
    "    lemma_function = WordNetLemmatizer()\n",
    "    desc3.append([lemma_function.lemmatize(token, tag_map[tag[0]]) for token, tag in pos_tag(tokens)]) "
   ]
  },
  {
   "cell_type": "code",
   "execution_count": 24,
   "id": "af99576b",
   "metadata": {},
   "outputs": [
    {
     "ename": "KeyboardInterrupt",
     "evalue": "",
     "output_type": "error",
     "traceback": [
      "\u001b[0;31m---------------------------------------------------------------------------\u001b[0m",
      "\u001b[0;31mKeyboardInterrupt\u001b[0m                         Traceback (most recent call last)",
      "\u001b[0;32m/tmp/ipykernel_3558/1242546999.py\u001b[0m in \u001b[0;36m<module>\u001b[0;34m\u001b[0m\n\u001b[1;32m      2\u001b[0m \u001b[0mtype\u001b[0m\u001b[0;34m(\u001b[0m\u001b[0mdesc3\u001b[0m\u001b[0;34m[\u001b[0m\u001b[0;36m1\u001b[0m\u001b[0;34m]\u001b[0m\u001b[0;34m)\u001b[0m\u001b[0;34m\u001b[0m\u001b[0;34m\u001b[0m\u001b[0m\n\u001b[1;32m      3\u001b[0m \u001b[0mtype\u001b[0m\u001b[0;34m(\u001b[0m\u001b[0mdf\u001b[0m\u001b[0;34m[\u001b[0m\u001b[0;34m'Description'\u001b[0m\u001b[0;34m]\u001b[0m\u001b[0;34m[\u001b[0m\u001b[0;36m1\u001b[0m\u001b[0;34m]\u001b[0m\u001b[0;34m)\u001b[0m\u001b[0;34m\u001b[0m\u001b[0;34m\u001b[0m\u001b[0m\n\u001b[0;32m----> 4\u001b[0;31m \u001b[0mdf\u001b[0m\u001b[0;34m.\u001b[0m\u001b[0mto_csv\u001b[0m\u001b[0;34m(\u001b[0m\u001b[0;34m'../data/processed/formatted_df.csv'\u001b[0m\u001b[0;34m)\u001b[0m\u001b[0;34m\u001b[0m\u001b[0;34m\u001b[0m\u001b[0m\n\u001b[0m",
      "\u001b[0;32m~/.local/lib/python3.8/site-packages/pandas/core/generic.py\u001b[0m in \u001b[0;36mto_csv\u001b[0;34m(self, path_or_buf, sep, na_rep, float_format, columns, header, index, index_label, mode, encoding, compression, quoting, quotechar, line_terminator, chunksize, date_format, doublequote, escapechar, decimal, errors, storage_options)\u001b[0m\n\u001b[1;32m   3464\u001b[0m         )\n\u001b[1;32m   3465\u001b[0m \u001b[0;34m\u001b[0m\u001b[0m\n\u001b[0;32m-> 3466\u001b[0;31m         return DataFrameRenderer(formatter).to_csv(\n\u001b[0m\u001b[1;32m   3467\u001b[0m             \u001b[0mpath_or_buf\u001b[0m\u001b[0;34m,\u001b[0m\u001b[0;34m\u001b[0m\u001b[0;34m\u001b[0m\u001b[0m\n\u001b[1;32m   3468\u001b[0m             \u001b[0mline_terminator\u001b[0m\u001b[0;34m=\u001b[0m\u001b[0mline_terminator\u001b[0m\u001b[0;34m,\u001b[0m\u001b[0;34m\u001b[0m\u001b[0;34m\u001b[0m\u001b[0m\n",
      "\u001b[0;32m~/.local/lib/python3.8/site-packages/pandas/io/formats/format.py\u001b[0m in \u001b[0;36mto_csv\u001b[0;34m(self, path_or_buf, encoding, sep, columns, index_label, mode, compression, quoting, quotechar, line_terminator, chunksize, date_format, doublequote, escapechar, errors, storage_options)\u001b[0m\n\u001b[1;32m   1103\u001b[0m             \u001b[0mformatter\u001b[0m\u001b[0;34m=\u001b[0m\u001b[0mself\u001b[0m\u001b[0;34m.\u001b[0m\u001b[0mfmt\u001b[0m\u001b[0;34m,\u001b[0m\u001b[0;34m\u001b[0m\u001b[0;34m\u001b[0m\u001b[0m\n\u001b[1;32m   1104\u001b[0m         )\n\u001b[0;32m-> 1105\u001b[0;31m         \u001b[0mcsv_formatter\u001b[0m\u001b[0;34m.\u001b[0m\u001b[0msave\u001b[0m\u001b[0;34m(\u001b[0m\u001b[0;34m)\u001b[0m\u001b[0;34m\u001b[0m\u001b[0;34m\u001b[0m\u001b[0m\n\u001b[0m\u001b[1;32m   1106\u001b[0m \u001b[0;34m\u001b[0m\u001b[0m\n\u001b[1;32m   1107\u001b[0m         \u001b[0;32mif\u001b[0m \u001b[0mcreated_buffer\u001b[0m\u001b[0;34m:\u001b[0m\u001b[0;34m\u001b[0m\u001b[0;34m\u001b[0m\u001b[0m\n",
      "\u001b[0;32m~/.local/lib/python3.8/site-packages/pandas/io/formats/csvs.py\u001b[0m in \u001b[0;36msave\u001b[0;34m(self)\u001b[0m\n\u001b[1;32m    255\u001b[0m             )\n\u001b[1;32m    256\u001b[0m \u001b[0;34m\u001b[0m\u001b[0m\n\u001b[0;32m--> 257\u001b[0;31m             \u001b[0mself\u001b[0m\u001b[0;34m.\u001b[0m\u001b[0m_save\u001b[0m\u001b[0;34m(\u001b[0m\u001b[0;34m)\u001b[0m\u001b[0;34m\u001b[0m\u001b[0;34m\u001b[0m\u001b[0m\n\u001b[0m\u001b[1;32m    258\u001b[0m \u001b[0;34m\u001b[0m\u001b[0m\n\u001b[1;32m    259\u001b[0m     \u001b[0;32mdef\u001b[0m \u001b[0m_save\u001b[0m\u001b[0;34m(\u001b[0m\u001b[0mself\u001b[0m\u001b[0;34m)\u001b[0m \u001b[0;34m->\u001b[0m \u001b[0;32mNone\u001b[0m\u001b[0;34m:\u001b[0m\u001b[0;34m\u001b[0m\u001b[0;34m\u001b[0m\u001b[0m\n",
      "\u001b[0;32m~/.local/lib/python3.8/site-packages/pandas/io/common.py\u001b[0m in \u001b[0;36m__exit__\u001b[0;34m(self, *args)\u001b[0m\n\u001b[1;32m    120\u001b[0m \u001b[0;34m\u001b[0m\u001b[0m\n\u001b[1;32m    121\u001b[0m     \u001b[0;32mdef\u001b[0m \u001b[0m__exit__\u001b[0m\u001b[0;34m(\u001b[0m\u001b[0mself\u001b[0m\u001b[0;34m,\u001b[0m \u001b[0;34m*\u001b[0m\u001b[0margs\u001b[0m\u001b[0;34m:\u001b[0m \u001b[0mAny\u001b[0m\u001b[0;34m)\u001b[0m \u001b[0;34m->\u001b[0m \u001b[0;32mNone\u001b[0m\u001b[0;34m:\u001b[0m\u001b[0;34m\u001b[0m\u001b[0;34m\u001b[0m\u001b[0m\n\u001b[0;32m--> 122\u001b[0;31m         \u001b[0mself\u001b[0m\u001b[0;34m.\u001b[0m\u001b[0mclose\u001b[0m\u001b[0;34m(\u001b[0m\u001b[0;34m)\u001b[0m\u001b[0;34m\u001b[0m\u001b[0;34m\u001b[0m\u001b[0m\n\u001b[0m\u001b[1;32m    123\u001b[0m \u001b[0;34m\u001b[0m\u001b[0m\n\u001b[1;32m    124\u001b[0m \u001b[0;34m\u001b[0m\u001b[0m\n",
      "\u001b[0;32m~/.local/lib/python3.8/site-packages/pandas/io/common.py\u001b[0m in \u001b[0;36mclose\u001b[0;34m(self)\u001b[0m\n\u001b[1;32m    110\u001b[0m         \u001b[0;32mtry\u001b[0m\u001b[0;34m:\u001b[0m\u001b[0;34m\u001b[0m\u001b[0;34m\u001b[0m\u001b[0m\n\u001b[1;32m    111\u001b[0m             \u001b[0;32mfor\u001b[0m \u001b[0mhandle\u001b[0m \u001b[0;32min\u001b[0m \u001b[0mself\u001b[0m\u001b[0;34m.\u001b[0m\u001b[0mcreated_handles\u001b[0m\u001b[0;34m:\u001b[0m\u001b[0;34m\u001b[0m\u001b[0;34m\u001b[0m\u001b[0m\n\u001b[0;32m--> 112\u001b[0;31m                 \u001b[0mhandle\u001b[0m\u001b[0;34m.\u001b[0m\u001b[0mclose\u001b[0m\u001b[0;34m(\u001b[0m\u001b[0;34m)\u001b[0m\u001b[0;34m\u001b[0m\u001b[0;34m\u001b[0m\u001b[0m\n\u001b[0m\u001b[1;32m    113\u001b[0m         \u001b[0;32mexcept\u001b[0m \u001b[0;34m(\u001b[0m\u001b[0mOSError\u001b[0m\u001b[0;34m,\u001b[0m \u001b[0mValueError\u001b[0m\u001b[0;34m)\u001b[0m\u001b[0;34m:\u001b[0m\u001b[0;34m\u001b[0m\u001b[0;34m\u001b[0m\u001b[0m\n\u001b[1;32m    114\u001b[0m             \u001b[0;32mpass\u001b[0m\u001b[0;34m\u001b[0m\u001b[0;34m\u001b[0m\u001b[0m\n",
      "\u001b[0;31mKeyboardInterrupt\u001b[0m: "
     ]
    }
   ],
   "source": [
    "df['Description'] = desc3\n",
    "df.to_csv('../data/processed/formatted_df.csv')"
   ]
  },
  {
   "cell_type": "code",
   "execution_count": 25,
   "id": "448ba4eb",
   "metadata": {},
   "outputs": [
    {
     "data": {
      "text/plain": [
       "list"
      ]
     },
     "execution_count": 25,
     "metadata": {},
     "output_type": "execute_result"
    }
   ],
   "source": [
    "type(desc3[1])\n",
    "type(df['Description'][1])"
   ]
  },
  {
   "cell_type": "code",
   "execution_count": null,
   "id": "53357f68",
   "metadata": {},
   "outputs": [],
   "source": []
  }
 ],
 "metadata": {
  "kernelspec": {
   "display_name": "Python 3 (ipykernel)",
   "language": "python",
   "name": "python3"
  },
  "language_info": {
   "codemirror_mode": {
    "name": "ipython",
    "version": 3
   },
   "file_extension": ".py",
   "mimetype": "text/x-python",
   "name": "python",
   "nbconvert_exporter": "python",
   "pygments_lexer": "ipython3",
   "version": "3.8.10"
  }
 },
 "nbformat": 4,
 "nbformat_minor": 5
}
