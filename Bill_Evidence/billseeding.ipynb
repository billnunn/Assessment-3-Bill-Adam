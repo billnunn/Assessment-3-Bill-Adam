{
 "cells": [
  {
   "cell_type": "code",
   "execution_count": 2,
   "metadata": {},
   "outputs": [],
   "source": [
    "import pandas as pd\n",
    "import numpy as np\n",
    "import matplotlib.pyplot as plt"
   ]
  },
  {
   "cell_type": "code",
   "execution_count": 3,
   "metadata": {},
   "outputs": [
    {
     "name": "stderr",
     "output_type": "stream",
     "text": [
      "/Users/willnunn/opt/anaconda3/lib/python3.8/site-packages/IPython/core/interactiveshell.py:3444: DtypeWarning: Columns (6) have mixed types.Specify dtype option on import or set low_memory=False.\n",
      "  exec(code_obj, self.user_global_ns, self.user_ns)\n"
     ]
    }
   ],
   "source": [
    "url = \"https://cve.mitre.org/data/downloads/allitems.csv\"\n",
    "df = pd.read_csv(url, encoding='iso8859_15', header=None, skiprows=10)\n",
    "df.columns = ['Name', 'Status', 'Description', 'References', 'Phase', 'Votes', 'Comments']"
   ]
  },
  {
   "cell_type": "code",
   "execution_count": 4,
   "metadata": {},
   "outputs": [
    {
     "data": {
      "text/html": [
       "<div>\n",
       "<style scoped>\n",
       "    .dataframe tbody tr th:only-of-type {\n",
       "        vertical-align: middle;\n",
       "    }\n",
       "\n",
       "    .dataframe tbody tr th {\n",
       "        vertical-align: top;\n",
       "    }\n",
       "\n",
       "    .dataframe thead th {\n",
       "        text-align: right;\n",
       "    }\n",
       "</style>\n",
       "<table border=\"1\" class=\"dataframe\">\n",
       "  <thead>\n",
       "    <tr style=\"text-align: right;\">\n",
       "      <th></th>\n",
       "      <th>Name</th>\n",
       "      <th>Status</th>\n",
       "      <th>Description</th>\n",
       "      <th>References</th>\n",
       "      <th>Phase</th>\n",
       "      <th>Votes</th>\n",
       "      <th>Comments</th>\n",
       "    </tr>\n",
       "  </thead>\n",
       "  <tbody>\n",
       "    <tr>\n",
       "      <th>0</th>\n",
       "      <td>CVE-1999-0001</td>\n",
       "      <td>Candidate</td>\n",
       "      <td>ip_input.c in BSD-derived TCP/IP implementatio...</td>\n",
       "      <td>BUGTRAQ:19981223 Re: CERT Advisory CA-98.13 - ...</td>\n",
       "      <td>Modified (20051217)</td>\n",
       "      <td>MODIFY(1) Frech  |     NOOP(2) Northcutt, W...</td>\n",
       "      <td>Christey&gt; A Bugtraq posting indicates that the...</td>\n",
       "    </tr>\n",
       "    <tr>\n",
       "      <th>1</th>\n",
       "      <td>CVE-1999-0002</td>\n",
       "      <td>Entry</td>\n",
       "      <td>Buffer overflow in NFS mountd gives root acces...</td>\n",
       "      <td>BID:121   |   URL:http://www.securityfocus.com...</td>\n",
       "      <td>NaN</td>\n",
       "      <td>NaN</td>\n",
       "      <td>NaN</td>\n",
       "    </tr>\n",
       "    <tr>\n",
       "      <th>2</th>\n",
       "      <td>CVE-1999-0003</td>\n",
       "      <td>Entry</td>\n",
       "      <td>Execute commands as root via buffer overflow i...</td>\n",
       "      <td>BID:122   |   URL:http://www.securityfocus.com...</td>\n",
       "      <td>NaN</td>\n",
       "      <td>NaN</td>\n",
       "      <td>NaN</td>\n",
       "    </tr>\n",
       "    <tr>\n",
       "      <th>3</th>\n",
       "      <td>CVE-1999-0004</td>\n",
       "      <td>Candidate</td>\n",
       "      <td>MIME buffer overflow in email clients, e.g. So...</td>\n",
       "      <td>CERT:CA-98.10.mime_buffer_overflows   |   MS:M...</td>\n",
       "      <td>Modified (19990621)</td>\n",
       "      <td>ACCEPT(8) Baker, Cole, Collins, Dik, Landfi...</td>\n",
       "      <td>Frech&gt; Extremely minor, but I believe e-mail i...</td>\n",
       "    </tr>\n",
       "    <tr>\n",
       "      <th>4</th>\n",
       "      <td>CVE-1999-0005</td>\n",
       "      <td>Entry</td>\n",
       "      <td>Arbitrary command execution via IMAP buffer ov...</td>\n",
       "      <td>BID:130   |   URL:http://www.securityfocus.com...</td>\n",
       "      <td>NaN</td>\n",
       "      <td>NaN</td>\n",
       "      <td>NaN</td>\n",
       "    </tr>\n",
       "  </tbody>\n",
       "</table>\n",
       "</div>"
      ],
      "text/plain": [
       "            Name     Status  \\\n",
       "0  CVE-1999-0001  Candidate   \n",
       "1  CVE-1999-0002      Entry   \n",
       "2  CVE-1999-0003      Entry   \n",
       "3  CVE-1999-0004  Candidate   \n",
       "4  CVE-1999-0005      Entry   \n",
       "\n",
       "                                         Description  \\\n",
       "0  ip_input.c in BSD-derived TCP/IP implementatio...   \n",
       "1  Buffer overflow in NFS mountd gives root acces...   \n",
       "2  Execute commands as root via buffer overflow i...   \n",
       "3  MIME buffer overflow in email clients, e.g. So...   \n",
       "4  Arbitrary command execution via IMAP buffer ov...   \n",
       "\n",
       "                                          References                Phase  \\\n",
       "0  BUGTRAQ:19981223 Re: CERT Advisory CA-98.13 - ...  Modified (20051217)   \n",
       "1  BID:121   |   URL:http://www.securityfocus.com...                  NaN   \n",
       "2  BID:122   |   URL:http://www.securityfocus.com...                  NaN   \n",
       "3  CERT:CA-98.10.mime_buffer_overflows   |   MS:M...  Modified (19990621)   \n",
       "4  BID:130   |   URL:http://www.securityfocus.com...                  NaN   \n",
       "\n",
       "                                               Votes  \\\n",
       "0     MODIFY(1) Frech  |     NOOP(2) Northcutt, W...   \n",
       "1                                                NaN   \n",
       "2                                                NaN   \n",
       "3     ACCEPT(8) Baker, Cole, Collins, Dik, Landfi...   \n",
       "4                                                NaN   \n",
       "\n",
       "                                            Comments  \n",
       "0  Christey> A Bugtraq posting indicates that the...  \n",
       "1                                                NaN  \n",
       "2                                                NaN  \n",
       "3  Frech> Extremely minor, but I believe e-mail i...  \n",
       "4                                                NaN  "
      ]
     },
     "execution_count": 4,
     "metadata": {},
     "output_type": "execute_result"
    }
   ],
   "source": [
    "df.head()"
   ]
  },
  {
   "cell_type": "code",
   "execution_count": 5,
   "metadata": {},
   "outputs": [],
   "source": [
    "df = df[~df.Description.str.startswith('**')]\n",
    "df = df[~df.Name.str.contains('2022')]\n",
    "df = df.set_axis(range(df.shape[0]), axis=0)"
   ]
  },
  {
   "cell_type": "code",
   "execution_count": 6,
   "metadata": {},
   "outputs": [
    {
     "data": {
      "text/plain": [
       "0    ip_input.c in bsd-derived tcp/ip implementatio...\n",
       "1    buffer overflow in nfs mountd gives root acces...\n",
       "2    execute commands as root via buffer overflow i...\n",
       "Name: Description, dtype: object"
      ]
     },
     "execution_count": 6,
     "metadata": {},
     "output_type": "execute_result"
    }
   ],
   "source": [
    "desc = df['Description'].str.lower()\n",
    "desc[0:3]"
   ]
  },
  {
   "cell_type": "code",
   "execution_count": 7,
   "metadata": {},
   "outputs": [],
   "source": [
    "from nltk.tokenize import word_tokenize\n",
    "from nltk.corpus import stopwords\n",
    "import gensim\n",
    "import string"
   ]
  },
  {
   "cell_type": "code",
   "execution_count": 8,
   "metadata": {},
   "outputs": [],
   "source": [
    "stop_words = stopwords.words('english')\n",
    "\n",
    "def remove_stop_words(text):\n",
    "    words = text.split(' ')\n",
    "    text1 = \" \".join([i for i in words if i not in stop_words])\n",
    "    return text1"
   ]
  },
  {
   "cell_type": "code",
   "execution_count": 9,
   "metadata": {},
   "outputs": [],
   "source": [
    "def clean_entry(text): \n",
    "    delete_dict = {sp_character: '' for sp_character in string.punctuation + string.digits}\n",
    "    delete_dict[' '] = ' ' \n",
    "    table = str.maketrans(delete_dict)\n",
    "    text1 = text.translate(table)\n",
    "\n",
    "    return text1"
   ]
  },
  {
   "cell_type": "code",
   "execution_count": 10,
   "metadata": {},
   "outputs": [],
   "source": [
    "desc1 = desc.apply(remove_stop_words)\n",
    "desc1 = desc1.apply(clean_entry)"
   ]
  },
  {
   "cell_type": "code",
   "execution_count": 11,
   "metadata": {},
   "outputs": [],
   "source": [
    "all_stop_words = gensim.parsing.preprocessing.STOPWORDS\n",
    "\n",
    "def remove_all_stop_words(text):\n",
    "    words = text.split(' ')\n",
    "    text1 = \" \".join([i for i in words if i not in all_stop_words])\n",
    "    return text1"
   ]
  },
  {
   "cell_type": "code",
   "execution_count": 12,
   "metadata": {},
   "outputs": [
    {
     "data": {
      "text/plain": [
       "'ipinputc bsdderived tcpip implementations allows remote attackers cause denial service crash hang crafted packets'"
      ]
     },
     "execution_count": 12,
     "metadata": {},
     "output_type": "execute_result"
    }
   ],
   "source": [
    "desc2 = desc1.apply(remove_all_stop_words)\n",
    "desc2[0]"
   ]
  },
  {
   "cell_type": "code",
   "execution_count": 13,
   "metadata": {},
   "outputs": [],
   "source": [
    "from nltk.corpus import wordnet as wn\n",
    "from nltk.stem.wordnet import WordNetLemmatizer\n",
    "from nltk import word_tokenize, pos_tag\n",
    "from collections import defaultdict\n",
    "tag_map = defaultdict(lambda : wn.NOUN)\n",
    "tag_map['J'] = wn.ADJ\n",
    "tag_map['V'] = wn.VERB\n",
    "tag_map['R'] = wn.ADV\n",
    "\n",
    "CVE_Corpus = []\n",
    "for line in desc2:\n",
    "    tokens = word_tokenize(line)\n",
    "    lemma_function = WordNetLemmatizer()\n",
    "    CVE_Corpus.append([lemma_function.lemmatize(token, tag_map[tag[0]]) for token, tag in pos_tag(tokens)]) "
   ]
  },
  {
   "cell_type": "code",
   "execution_count": 14,
   "metadata": {},
   "outputs": [
    {
     "data": {
      "text/plain": [
       "['ipinputc',\n",
       " 'bsdderived',\n",
       " 'tcpip',\n",
       " 'implementation',\n",
       " 'allow',\n",
       " 'remote',\n",
       " 'attacker',\n",
       " 'cause',\n",
       " 'denial',\n",
       " 'service',\n",
       " 'crash',\n",
       " 'hang',\n",
       " 'craft',\n",
       " 'packet']"
      ]
     },
     "execution_count": 14,
     "metadata": {},
     "output_type": "execute_result"
    }
   ],
   "source": [
    "CVE_Corpus[0]"
   ]
  },
  {
   "cell_type": "code",
   "execution_count": 15,
   "metadata": {},
   "outputs": [
    {
     "data": {
      "text/plain": [
       "0    CVE-1999-0001\n",
       "1    CVE-1999-0002\n",
       "2    CVE-1999-0003\n",
       "Name: Name, dtype: object"
      ]
     },
     "execution_count": 15,
     "metadata": {},
     "output_type": "execute_result"
    }
   ],
   "source": [
    "df['Name'][0:3]"
   ]
  },
  {
   "cell_type": "code",
   "execution_count": 16,
   "metadata": {},
   "outputs": [],
   "source": [
    "vocab = gensim.corpora.Dictionary(CVE_Corpus)\n",
    "doc_word_matrix = [vocab.doc2bow(doc) for doc in CVE_Corpus]"
   ]
  },
  {
   "cell_type": "code",
   "execution_count": 17,
   "metadata": {},
   "outputs": [
    {
     "data": {
      "text/plain": [
       "0"
      ]
     },
     "execution_count": 17,
     "metadata": {},
     "output_type": "execute_result"
    }
   ],
   "source": [
    "vocab.token2id['allow']"
   ]
  },
  {
   "cell_type": "code",
   "execution_count": 18,
   "metadata": {},
   "outputs": [
    {
     "data": {
      "text/plain": [
       "'attacker'"
      ]
     },
     "execution_count": 18,
     "metadata": {},
     "output_type": "execute_result"
    }
   ],
   "source": [
    "vocab[1]"
   ]
  },
  {
   "cell_type": "code",
   "execution_count": 19,
   "metadata": {},
   "outputs": [
    {
     "data": {
      "text/plain": [
       "157563"
      ]
     },
     "execution_count": 19,
     "metadata": {},
     "output_type": "execute_result"
    }
   ],
   "source": [
    "len(vocab)"
   ]
  },
  {
   "cell_type": "code",
   "execution_count": 20,
   "metadata": {},
   "outputs": [
    {
     "data": {
      "text/plain": [
       "114"
      ]
     },
     "execution_count": 20,
     "metadata": {},
     "output_type": "execute_result"
    }
   ],
   "source": [
    "frequent_words = []\n",
    "for i in range(0, len(vocab)):\n",
    "    if vocab.dfs[i] > 5000:\n",
    "        frequent_words.append(vocab[i])\n",
    "\n",
    "len(frequent_words)"
   ]
  },
  {
   "cell_type": "code",
   "execution_count": 21,
   "metadata": {},
   "outputs": [
    {
     "name": "stdout",
     "output_type": "stream",
     "text": [
      "[0, 1541, 2778, 4313, 6663, 8161, 10794, 15380, 22238, 28579, 35550, 40437, 45429, 50016, 55417, 61539, 69818, 77734, 86935, 101254, 116737, 132008, 149818, 167642]\n"
     ]
    },
    {
     "data": {
      "text/plain": [
       "24"
      ]
     },
     "execution_count": 21,
     "metadata": {},
     "output_type": "execute_result"
    }
   ],
   "source": [
    "names = df['Name']\n",
    "year = []\n",
    "for instance in names:\n",
    "    year.append(int(instance[4:8]))\n",
    "year_count = [0]\n",
    "for i in range(23):\n",
    "    if i == 0:\n",
    "        year_count.append(year.count(i+1999))\n",
    "    else:\n",
    "        year_count.append(year.count(i+1999) + year_count[i]) \n",
    "print(year_count)\n",
    "len(year_count)"
   ]
  },
  {
   "cell_type": "code",
   "execution_count": 22,
   "metadata": {},
   "outputs": [
    {
     "data": {
      "text/plain": [
       "0       CVE-1999-0001\n",
       "1       CVE-1999-0002\n",
       "2       CVE-1999-0003\n",
       "3       CVE-1999-0004\n",
       "4       CVE-1999-0005\n",
       "            ...      \n",
       "1536    CVE-1999-1589\n",
       "1537    CVE-1999-1590\n",
       "1538    CVE-1999-1591\n",
       "1539    CVE-1999-1592\n",
       "1540    CVE-1999-1593\n",
       "Name: Name, Length: 1541, dtype: object"
      ]
     },
     "execution_count": 22,
     "metadata": {},
     "output_type": "execute_result"
    }
   ],
   "source": [
    "df['Name'][0:1541]"
   ]
  },
  {
   "cell_type": "code",
   "execution_count": 23,
   "metadata": {},
   "outputs": [
    {
     "data": {
      "text/plain": [
       "'allow'"
      ]
     },
     "execution_count": 23,
     "metadata": {},
     "output_type": "execute_result"
    }
   ],
   "source": [
    "frequent_words[0]"
   ]
  },
  {
   "cell_type": "code",
   "execution_count": 24,
   "metadata": {},
   "outputs": [
    {
     "name": "stdout",
     "output_type": "stream",
     "text": [
      "[1016, 1062, 1333, 2040, 1303, 2226, 3875, 5595, 5213, 5679, 4049, 4086, 3625, 4332, 4893, 7055, 6164, 6401, 7176, 7462, 6151, 7906, 7258]\n"
     ]
    },
    {
     "data": {
      "text/plain": [
       "23"
      ]
     },
     "execution_count": 24,
     "metadata": {},
     "output_type": "execute_result"
    }
   ],
   "source": [
    "word = 'allow'\n",
    "\n",
    "word_signal = []\n",
    "for i in range(0, len(CVE_Corpus)):\n",
    "    if word in CVE_Corpus[i]:\n",
    "        word_signal.append(1)\n",
    "    else:\n",
    "        word_signal.append(0)\n",
    "\n",
    "x = []\n",
    "for i in range(0, len(year_count)-1):\n",
    "    x.append(sum(word_signal[year_count[i]:year_count[i+1]]))\n",
    "    \n",
    "print(x)\n",
    "len(x)"
   ]
  },
  {
   "cell_type": "code",
   "execution_count": 25,
   "metadata": {},
   "outputs": [],
   "source": [
    "word_by_year = dict()\n",
    "\n",
    "for word in frequent_words:\n",
    "    word_signal = []\n",
    "    for i in range(0, len(CVE_Corpus)):\n",
    "        if word in CVE_Corpus[i]:\n",
    "            word_signal.append(1)\n",
    "        else:\n",
    "            word_signal.append(0)\n",
    "\n",
    "    x = []\n",
    "    for i in range(0, len(year_count)-1):\n",
    "        x.append(sum(word_signal[year_count[i]:year_count[i+1]]))\n",
    "    \n",
    "    word_by_year[word] = x"
   ]
  },
  {
   "cell_type": "code",
   "execution_count": 26,
   "metadata": {},
   "outputs": [
    {
     "name": "stdout",
     "output_type": "stream",
     "text": [
      "[0.009192207203445437, 0.007378819150332255, 0.009156416649765572, 0.014017966857947293, 0.008935708235406402, 0.015706087973180946, 0.027355913195977143, 0.04090860285608618, 0.03782465014733778, 0.04158265828372365, 0.02915140597225039, 0.029777740661648035, 0.02736187828825712, 0.03221746340415886, 0.036518294938022694, 0.04938499898593431, 0.04721967048830245, 0.054884814068073634, 0.08541415635699884, 0.09235752377089274, 0.09109292420753749, 0.10623829350640054, 0.10632180479832024]\n"
     ]
    },
    {
     "data": {
      "text/plain": [
       "23"
      ]
     },
     "execution_count": 26,
     "metadata": {},
     "output_type": "execute_result"
    }
   ],
   "source": [
    "cat_distribution = []\n",
    "\n",
    "for i in range(0, len(year_count)-1):\n",
    "    cat_distribution.append((year_count[i+1] - year_count[i])/year_count[-1])\n",
    "\n",
    "print(cat_distribution)\n",
    "len(cat_distribution)"
   ]
  },
  {
   "cell_type": "code",
   "execution_count": 27,
   "metadata": {},
   "outputs": [
    {
     "data": {
      "text/plain": [
       "'cause'"
      ]
     },
     "execution_count": 27,
     "metadata": {},
     "output_type": "execute_result"
    }
   ],
   "source": [
    "frequent_words[2]"
   ]
  },
  {
   "cell_type": "code",
   "execution_count": 28,
   "metadata": {},
   "outputs": [
    {
     "data": {
      "text/plain": [
       "Power_divergenceResult(statistic=3753.981539563939, pvalue=0.0)"
      ]
     },
     "execution_count": 28,
     "metadata": {},
     "output_type": "execute_result"
    }
   ],
   "source": [
    "from scipy.stats import chisquare\n",
    "\n",
    "chisquare(word_by_year['cause'], \n",
    "        f_exp= [i * (sum(word_by_year['cause'])) for i in cat_distribution])"
   ]
  },
  {
   "cell_type": "code",
   "execution_count": 42,
   "metadata": {},
   "outputs": [],
   "source": [
    "def KL_div(a,b):\n",
    "    a = np.array(a, dtype=float)\n",
    "    b = np.array(b, dtype=float)\n",
    "    return sum(np.where(a != 0, a * np.log(a / b), 0))"
   ]
  },
  {
   "cell_type": "code",
   "execution_count": 43,
   "metadata": {},
   "outputs": [],
   "source": [
    "distribution = [i / (sum(word_by_year['allow'])) for i in word_by_year['allow']]"
   ]
  },
  {
   "cell_type": "code",
   "execution_count": 46,
   "metadata": {},
   "outputs": [
    {
     "data": {
      "text/plain": [
       "[<matplotlib.lines.Line2D at 0x7fdad6f96520>]"
      ]
     },
     "execution_count": 46,
     "metadata": {},
     "output_type": "execute_result"
    },
    {
     "data": {
      "image/png": "[encoded data removed]",
      "text/plain": [
       "<Figure size 432x288 with 1 Axes>"
      ]
     },
     "metadata": {
      "needs_background": "light"
     },
     "output_type": "display_data"
    }
   ],
   "source": [
    "plt.plot(cat_distribution)\n",
    "plt.plot(distribution)"
   ]
  },
  {
   "cell_type": "code",
   "execution_count": 44,
   "metadata": {},
   "outputs": [
    {
     "data": {
      "text/plain": [
       "0.04373771356566333"
      ]
     },
     "execution_count": 44,
     "metadata": {},
     "output_type": "execute_result"
    }
   ],
   "source": [
    "KL_div(distribution,cat_distribution)"
   ]
  },
  {
   "cell_type": "code",
   "execution_count": 47,
   "metadata": {},
   "outputs": [
    {
     "name": "stderr",
     "output_type": "stream",
     "text": [
      "/var/folders/c6/5l1fxqh95lzdkbcb9p480sf00000gn/T/ipykernel_848/1047873131.py:4: RuntimeWarning: divide by zero encountered in log\n",
      "  return sum(np.where(a != 0, a * np.log(a / b), 0))\n",
      "/var/folders/c6/5l1fxqh95lzdkbcb9p480sf00000gn/T/ipykernel_848/1047873131.py:4: RuntimeWarning: invalid value encountered in multiply\n",
      "  return sum(np.where(a != 0, a * np.log(a / b), 0))\n"
     ]
    }
   ],
   "source": [
    "KL_scores = dict()\n",
    "for word in frequent_words:\n",
    "    distribution = [year / (sum(word_by_year[word])) for year in word_by_year[word]]\n",
    "\n",
    "    KL_scores[word] = KL_div(distribution,cat_distribution)"
   ]
  },
  {
   "cell_type": "code",
   "execution_count": 49,
   "metadata": {},
   "outputs": [
    {
     "data": {
      "text/plain": [
       "['successful',\n",
       " 'unknown',\n",
       " 'prior',\n",
       " 'android',\n",
       " 'unauthenticated',\n",
       " 'vulnerable',\n",
       " 'unspecified',\n",
       " 'discover',\n",
       " 'exploit',\n",
       " 'result',\n",
       " 'php',\n",
       " 'lead',\n",
       " 'execution',\n",
       " 'validation',\n",
       " 'exist',\n",
       " 'different',\n",
       " 'malicious',\n",
       " 'disclosure',\n",
       " 'v',\n",
       " 'version',\n",
       " 'note',\n",
       " 'relate',\n",
       " 'possibly',\n",
       " 'sql',\n",
       " 'affect',\n",
       " 'input',\n",
       " 'parameter',\n",
       " 'issue',\n",
       " 'vector',\n",
       " 'multiple',\n",
       " 'allows',\n",
       " 'inject',\n",
       " 'obtain',\n",
       " 'product',\n",
       " 'html',\n",
       " 'aka',\n",
       " 'properly',\n",
       " 'corruption',\n",
       " 'device',\n",
       " 'url',\n",
       " 'network',\n",
       " 'plugin',\n",
       " 'x',\n",
       " 'injection',\n",
       " 'send',\n",
       " 'craft',\n",
       " 'remote',\n",
       " 'check',\n",
       " 'sensitive',\n",
       " 'command',\n",
       " 'gain',\n",
       " 'xss',\n",
       " 'arbitrary',\n",
       " 'software',\n",
       " 'crosssite',\n",
       " 'execute',\n",
       " 'cve',\n",
       " 'handle',\n",
       " 'linux',\n",
       " 'oracle',\n",
       " 'contain',\n",
       " 'application',\n",
       " 'data',\n",
       " 'management',\n",
       " 'earlier',\n",
       " 'process',\n",
       " 'windows',\n",
       " 'directory',\n",
       " 'privilege',\n",
       " 'component',\n",
       " 'ibm',\n",
       " 'id',\n",
       " 'web',\n",
       " 'impact',\n",
       " 'denial',\n",
       " 'microsoft',\n",
       " 'kernel',\n",
       " 'message',\n",
       " 'memory',\n",
       " 'cisco',\n",
       " 'overflow',\n",
       " 'crash',\n",
       " 'access',\n",
       " 'page',\n",
       " 'script',\n",
       " 'buffer',\n",
       " 'authenticate',\n",
       " 'security',\n",
       " 'certain',\n",
       " 'http',\n",
       " 'cause',\n",
       " 'window',\n",
       " 'local',\n",
       " 'value',\n",
       " 'trigger',\n",
       " 'function',\n",
       " 'service',\n",
       " 'use',\n",
       " 'password',\n",
       " 'attacker',\n",
       " 'server',\n",
       " 'allow',\n",
       " 'control',\n",
       " 'information',\n",
       " 'manager',\n",
       " 'attack',\n",
       " 'file',\n",
       " 'vulnerability',\n",
       " 'bypass',\n",
       " 'authentication',\n",
       " 'code',\n",
       " 'request',\n",
       " 'user',\n",
       " 'read']"
      ]
     },
     "execution_count": 49,
     "metadata": {},
     "output_type": "execute_result"
    }
   ],
   "source": [
    "KL_sorting = sorted(KL_scores, key=KL_scores.get, reverse=True)\n",
    "KL_sorting"
   ]
  },
  {
   "cell_type": "code",
   "execution_count": 50,
   "metadata": {},
   "outputs": [],
   "source": [
    "A = [[1, 4, 5], \n",
    "    [-5, 8, 9]]"
   ]
  },
  {
   "cell_type": "code",
   "execution_count": 51,
   "metadata": {},
   "outputs": [
    {
     "name": "stdout",
     "output_type": "stream",
     "text": [
      "[[1, 4, 5], [-5, 8, 9]]\n"
     ]
    }
   ],
   "source": [
    "print(A)"
   ]
  },
  {
   "cell_type": "code",
   "execution_count": 84,
   "metadata": {},
   "outputs": [],
   "source": [
    "test_dict = dict()\n",
    "test_dict[0] = 5\n",
    "test_dict[1] = 6\n",
    "test_dict[0] = 7"
   ]
  },
  {
   "cell_type": "code",
   "execution_count": 80,
   "metadata": {},
   "outputs": [],
   "source": [
    "def makerow(seed):\n",
    "    constant = (1 - (0.1 * len(seed))) / (len(vocab) - len(seed))\n",
    "    row = np.empty(len(vocab))\n",
    "    row.fill(constant)\n",
    "    for word in seed:\n",
    "        row[vocab.token2id[word]] = 0.1\n",
    "    return row\n"
   ]
  },
  {
   "cell_type": "code",
   "execution_count": 89,
   "metadata": {},
   "outputs": [],
   "source": [
    "seed_0 = ['buffer', 'overflow']\n",
    "seed_1 = ['xss', 'crosssite']\n",
    "seed_2 = ['sql', 'injection']\n",
    "seed_3 = ['plugin']\n",
    "seed_4 = ['cisco', 'ibm', 'oracle']\n",
    "\n",
    "seeds = dict()\n",
    "for row in range(0,20):\n",
    "    seeds[row] = makerow([])\n",
    "seeds[0] = makerow(seed_0)\n",
    "seeds[1] = makerow(seed_1)\n",
    "seeds[2] = makerow(seed_2)\n",
    "seeds[3] = makerow(seed_3)\n",
    "seeds[4] = makerow(seed_4)\n"
   ]
  },
  {
   "cell_type": "code",
   "execution_count": 90,
   "metadata": {},
   "outputs": [],
   "source": [
    "topic_word_prior = []\n",
    "for row in range(0, 20):\n",
    "    topic_word_prior.append(seeds[row])"
   ]
  },
  {
   "cell_type": "code",
   "execution_count": 93,
   "metadata": {},
   "outputs": [
    {
     "data": {
      "text/plain": [
       "15"
      ]
     },
     "execution_count": 93,
     "metadata": {},
     "output_type": "execute_result"
    }
   ],
   "source": [
    "vocab.token2id['buffer']"
   ]
  },
  {
   "cell_type": "code",
   "execution_count": 96,
   "metadata": {},
   "outputs": [
    {
     "name": "stdout",
     "output_type": "stream",
     "text": [
      "0.1\n",
      "5.0773985948299395e-06\n"
     ]
    }
   ],
   "source": [
    "print(topic_word_prior[0][vocab.token2id['buffer']])\n",
    "print(topic_word_prior[0][vocab.token2id['buffer']+1])"
   ]
  }
 ],
 "metadata": {
  "interpreter": {
   "hash": "2b2cf241b3032d3d2b145d9ea013e45feb424e997ef585d5de85eb6bf3c9e693"
  },
  "kernelspec": {
   "display_name": "Python 3.8.12 ('base')",
   "language": "python",
   "name": "python3"
  },
  "language_info": {
   "codemirror_mode": {
    "name": "ipython",
    "version": 3
   },
   "file_extension": ".py",
   "mimetype": "text/x-python",
   "name": "python",
   "nbconvert_exporter": "python",
   "pygments_lexer": "ipython3",
   "version": "3.8.12"
  },
  "orig_nbformat": 4
 },
 "nbformat": 4,
 "nbformat_minor": 2
}
