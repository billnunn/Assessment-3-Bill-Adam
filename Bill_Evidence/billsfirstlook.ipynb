{
 "cells": [
  {
   "cell_type": "code",
   "execution_count": 1,
   "metadata": {},
   "outputs": [],
   "source": [
    "import pandas as pd\n",
    "import string"
   ]
  },
  {
   "cell_type": "markdown",
   "metadata": {},
   "source": [
    "We can retrieve our data frame `df` from the URL directly. The following code runs in about 1 minute. Note that we don't lose any data by setting `skiprows = 10`. The first 10 rows were messing up the `read_csv()` parser- it thought there were fewer columns than there actually are."
   ]
  },
  {
   "cell_type": "code",
   "execution_count": 2,
   "metadata": {},
   "outputs": [
    {
     "name": "stderr",
     "output_type": "stream",
     "text": [
      "/Users/willnunn/opt/anaconda3/lib/python3.8/site-packages/IPython/core/interactiveshell.py:3444: DtypeWarning: Columns (6) have mixed types.Specify dtype option on import or set low_memory=False.\n",
      "  exec(code_obj, self.user_global_ns, self.user_ns)\n"
     ]
    }
   ],
   "source": [
    "url = \"https://cve.mitre.org/data/downloads/allitems.csv\"\n",
    "df = pd.read_csv(url, encoding='iso8859_15', header=None, skiprows=10)\n",
    "df.columns = ['Name', 'Status', 'Description', 'References', 'Phase', 'Votes', 'Comments']"
   ]
  },
  {
   "cell_type": "markdown",
   "metadata": {},
   "source": [
    "Let's check the head and tail of our frame. "
   ]
  },
  {
   "cell_type": "code",
   "execution_count": 3,
   "metadata": {},
   "outputs": [
    {
     "data": {
      "text/html": [
       "<div>\n",
       "<style scoped>\n",
       "    .dataframe tbody tr th:only-of-type {\n",
       "        vertical-align: middle;\n",
       "    }\n",
       "\n",
       "    .dataframe tbody tr th {\n",
       "        vertical-align: top;\n",
       "    }\n",
       "\n",
       "    .dataframe thead th {\n",
       "        text-align: right;\n",
       "    }\n",
       "</style>\n",
       "<table border=\"1\" class=\"dataframe\">\n",
       "  <thead>\n",
       "    <tr style=\"text-align: right;\">\n",
       "      <th></th>\n",
       "      <th>Name</th>\n",
       "      <th>Status</th>\n",
       "      <th>Description</th>\n",
       "      <th>References</th>\n",
       "      <th>Phase</th>\n",
       "      <th>Votes</th>\n",
       "      <th>Comments</th>\n",
       "    </tr>\n",
       "  </thead>\n",
       "  <tbody>\n",
       "    <tr>\n",
       "      <th>0</th>\n",
       "      <td>CVE-1999-0001</td>\n",
       "      <td>Candidate</td>\n",
       "      <td>ip_input.c in BSD-derived TCP/IP implementatio...</td>\n",
       "      <td>BUGTRAQ:19981223 Re: CERT Advisory CA-98.13 - ...</td>\n",
       "      <td>Modified (20051217)</td>\n",
       "      <td>MODIFY(1) Frech  |     NOOP(2) Northcutt, W...</td>\n",
       "      <td>Christey&gt; A Bugtraq posting indicates that the...</td>\n",
       "    </tr>\n",
       "    <tr>\n",
       "      <th>1</th>\n",
       "      <td>CVE-1999-0002</td>\n",
       "      <td>Entry</td>\n",
       "      <td>Buffer overflow in NFS mountd gives root acces...</td>\n",
       "      <td>BID:121   |   URL:http://www.securityfocus.com...</td>\n",
       "      <td>NaN</td>\n",
       "      <td>NaN</td>\n",
       "      <td>NaN</td>\n",
       "    </tr>\n",
       "    <tr>\n",
       "      <th>2</th>\n",
       "      <td>CVE-1999-0003</td>\n",
       "      <td>Entry</td>\n",
       "      <td>Execute commands as root via buffer overflow i...</td>\n",
       "      <td>BID:122   |   URL:http://www.securityfocus.com...</td>\n",
       "      <td>NaN</td>\n",
       "      <td>NaN</td>\n",
       "      <td>NaN</td>\n",
       "    </tr>\n",
       "    <tr>\n",
       "      <th>3</th>\n",
       "      <td>CVE-1999-0004</td>\n",
       "      <td>Candidate</td>\n",
       "      <td>MIME buffer overflow in email clients, e.g. So...</td>\n",
       "      <td>CERT:CA-98.10.mime_buffer_overflows   |   MS:M...</td>\n",
       "      <td>Modified (19990621)</td>\n",
       "      <td>ACCEPT(8) Baker, Cole, Collins, Dik, Landfi...</td>\n",
       "      <td>Frech&gt; Extremely minor, but I believe e-mail i...</td>\n",
       "    </tr>\n",
       "    <tr>\n",
       "      <th>4</th>\n",
       "      <td>CVE-1999-0005</td>\n",
       "      <td>Entry</td>\n",
       "      <td>Arbitrary command execution via IMAP buffer ov...</td>\n",
       "      <td>BID:130   |   URL:http://www.securityfocus.com...</td>\n",
       "      <td>NaN</td>\n",
       "      <td>NaN</td>\n",
       "      <td>NaN</td>\n",
       "    </tr>\n",
       "  </tbody>\n",
       "</table>\n",
       "</div>"
      ],
      "text/plain": [
       "            Name     Status  \\\n",
       "0  CVE-1999-0001  Candidate   \n",
       "1  CVE-1999-0002      Entry   \n",
       "2  CVE-1999-0003      Entry   \n",
       "3  CVE-1999-0004  Candidate   \n",
       "4  CVE-1999-0005      Entry   \n",
       "\n",
       "                                         Description  \\\n",
       "0  ip_input.c in BSD-derived TCP/IP implementatio...   \n",
       "1  Buffer overflow in NFS mountd gives root acces...   \n",
       "2  Execute commands as root via buffer overflow i...   \n",
       "3  MIME buffer overflow in email clients, e.g. So...   \n",
       "4  Arbitrary command execution via IMAP buffer ov...   \n",
       "\n",
       "                                          References                Phase  \\\n",
       "0  BUGTRAQ:19981223 Re: CERT Advisory CA-98.13 - ...  Modified (20051217)   \n",
       "1  BID:121   |   URL:http://www.securityfocus.com...                  NaN   \n",
       "2  BID:122   |   URL:http://www.securityfocus.com...                  NaN   \n",
       "3  CERT:CA-98.10.mime_buffer_overflows   |   MS:M...  Modified (19990621)   \n",
       "4  BID:130   |   URL:http://www.securityfocus.com...                  NaN   \n",
       "\n",
       "                                               Votes  \\\n",
       "0     MODIFY(1) Frech  |     NOOP(2) Northcutt, W...   \n",
       "1                                                NaN   \n",
       "2                                                NaN   \n",
       "3     ACCEPT(8) Baker, Cole, Collins, Dik, Landfi...   \n",
       "4                                                NaN   \n",
       "\n",
       "                                            Comments  \n",
       "0  Christey> A Bugtraq posting indicates that the...  \n",
       "1                                                NaN  \n",
       "2                                                NaN  \n",
       "3  Frech> Extremely minor, but I believe e-mail i...  \n",
       "4                                                NaN  "
      ]
     },
     "execution_count": 3,
     "metadata": {},
     "output_type": "execute_result"
    }
   ],
   "source": [
    "df.head()"
   ]
  },
  {
   "cell_type": "code",
   "execution_count": 4,
   "metadata": {},
   "outputs": [
    {
     "data": {
      "text/html": [
       "<div>\n",
       "<style scoped>\n",
       "    .dataframe tbody tr th:only-of-type {\n",
       "        vertical-align: middle;\n",
       "    }\n",
       "\n",
       "    .dataframe tbody tr th {\n",
       "        vertical-align: top;\n",
       "    }\n",
       "\n",
       "    .dataframe thead th {\n",
       "        text-align: right;\n",
       "    }\n",
       "</style>\n",
       "<table border=\"1\" class=\"dataframe\">\n",
       "  <thead>\n",
       "    <tr style=\"text-align: right;\">\n",
       "      <th></th>\n",
       "      <th>Name</th>\n",
       "      <th>Status</th>\n",
       "      <th>Description</th>\n",
       "      <th>References</th>\n",
       "      <th>Phase</th>\n",
       "      <th>Votes</th>\n",
       "      <th>Comments</th>\n",
       "    </tr>\n",
       "  </thead>\n",
       "  <tbody>\n",
       "    <tr>\n",
       "      <th>227376</th>\n",
       "      <td>CVE-2022-24125</td>\n",
       "      <td>Candidate</td>\n",
       "      <td>** RESERVED ** This candidate has been reserve...</td>\n",
       "      <td>NaN</td>\n",
       "      <td>Assigned (20220129)</td>\n",
       "      <td>None (candidate not yet proposed)</td>\n",
       "      <td>NaN</td>\n",
       "    </tr>\n",
       "    <tr>\n",
       "      <th>227377</th>\n",
       "      <td>CVE-2022-24126</td>\n",
       "      <td>Candidate</td>\n",
       "      <td>** RESERVED ** This candidate has been reserve...</td>\n",
       "      <td>NaN</td>\n",
       "      <td>Assigned (20220129)</td>\n",
       "      <td>None (candidate not yet proposed)</td>\n",
       "      <td>NaN</td>\n",
       "    </tr>\n",
       "    <tr>\n",
       "      <th>227378</th>\n",
       "      <td>CVE-2022-24127</td>\n",
       "      <td>Candidate</td>\n",
       "      <td>** RESERVED ** This candidate has been reserve...</td>\n",
       "      <td>NaN</td>\n",
       "      <td>Assigned (20220129)</td>\n",
       "      <td>None (candidate not yet proposed)</td>\n",
       "      <td>NaN</td>\n",
       "    </tr>\n",
       "    <tr>\n",
       "      <th>227379</th>\n",
       "      <td>CVE-2022-24128</td>\n",
       "      <td>Candidate</td>\n",
       "      <td>** RESERVED ** This candidate has been reserve...</td>\n",
       "      <td>NaN</td>\n",
       "      <td>Assigned (20220129)</td>\n",
       "      <td>None (candidate not yet proposed)</td>\n",
       "      <td>NaN</td>\n",
       "    </tr>\n",
       "    <tr>\n",
       "      <th>227380</th>\n",
       "      <td>CVE-2022-24129</td>\n",
       "      <td>Candidate</td>\n",
       "      <td>** RESERVED ** This candidate has been reserve...</td>\n",
       "      <td>NaN</td>\n",
       "      <td>Assigned (20220130)</td>\n",
       "      <td>None (candidate not yet proposed)</td>\n",
       "      <td>NaN</td>\n",
       "    </tr>\n",
       "  </tbody>\n",
       "</table>\n",
       "</div>"
      ],
      "text/plain": [
       "                  Name     Status  \\\n",
       "227376  CVE-2022-24125  Candidate   \n",
       "227377  CVE-2022-24126  Candidate   \n",
       "227378  CVE-2022-24127  Candidate   \n",
       "227379  CVE-2022-24128  Candidate   \n",
       "227380  CVE-2022-24129  Candidate   \n",
       "\n",
       "                                              Description References  \\\n",
       "227376  ** RESERVED ** This candidate has been reserve...        NaN   \n",
       "227377  ** RESERVED ** This candidate has been reserve...        NaN   \n",
       "227378  ** RESERVED ** This candidate has been reserve...        NaN   \n",
       "227379  ** RESERVED ** This candidate has been reserve...        NaN   \n",
       "227380  ** RESERVED ** This candidate has been reserve...        NaN   \n",
       "\n",
       "                      Phase                              Votes Comments  \n",
       "227376  Assigned (20220129)  None (candidate not yet proposed)      NaN  \n",
       "227377  Assigned (20220129)  None (candidate not yet proposed)      NaN  \n",
       "227378  Assigned (20220129)  None (candidate not yet proposed)      NaN  \n",
       "227379  Assigned (20220129)  None (candidate not yet proposed)      NaN  \n",
       "227380  Assigned (20220130)  None (candidate not yet proposed)      NaN  "
      ]
     },
     "execution_count": 4,
     "metadata": {},
     "output_type": "execute_result"
    }
   ],
   "source": [
    "df.tail()"
   ]
  },
  {
   "cell_type": "markdown",
   "metadata": {},
   "source": [
    "Some entries of our Description field begin with `**RESERVED**`, don't offer a written description of the vulnerability, and are therefore useless for topic modelling. We remove such rows, and change the row names so they start at `0` and increment by one for good housekeeping."
   ]
  },
  {
   "cell_type": "code",
   "execution_count": 5,
   "metadata": {},
   "outputs": [],
   "source": [
    "df = df[~df.Description.str.startswith('**')]\n",
    "df = df.set_axis(range(df.shape[0]), axis=0)"
   ]
  },
  {
   "cell_type": "code",
   "execution_count": 6,
   "metadata": {},
   "outputs": [
    {
     "data": {
      "text/html": [
       "<div>\n",
       "<style scoped>\n",
       "    .dataframe tbody tr th:only-of-type {\n",
       "        vertical-align: middle;\n",
       "    }\n",
       "\n",
       "    .dataframe tbody tr th {\n",
       "        vertical-align: top;\n",
       "    }\n",
       "\n",
       "    .dataframe thead th {\n",
       "        text-align: right;\n",
       "    }\n",
       "</style>\n",
       "<table border=\"1\" class=\"dataframe\">\n",
       "  <thead>\n",
       "    <tr style=\"text-align: right;\">\n",
       "      <th></th>\n",
       "      <th>Name</th>\n",
       "      <th>Status</th>\n",
       "      <th>Description</th>\n",
       "      <th>References</th>\n",
       "      <th>Phase</th>\n",
       "      <th>Votes</th>\n",
       "      <th>Comments</th>\n",
       "    </tr>\n",
       "  </thead>\n",
       "  <tbody>\n",
       "    <tr>\n",
       "      <th>167889</th>\n",
       "      <td>CVE-2022-24032</td>\n",
       "      <td>Candidate</td>\n",
       "      <td>Adenza AxiomSL ControllerView through 10.8.1 i...</td>\n",
       "      <td>MISC:https://github.com/jdordonezn/CVE-2022-24...</td>\n",
       "      <td>Assigned (20220126)</td>\n",
       "      <td>None (candidate not yet proposed)</td>\n",
       "      <td>NaN</td>\n",
       "    </tr>\n",
       "    <tr>\n",
       "      <th>167890</th>\n",
       "      <td>CVE-2022-24071</td>\n",
       "      <td>Candidate</td>\n",
       "      <td>A Built-in extension in Whale browser before 3...</td>\n",
       "      <td>CONFIRM:https://cve.naver.com/detail/cve-2022-...</td>\n",
       "      <td>Assigned (20220127)</td>\n",
       "      <td>None (candidate not yet proposed)</td>\n",
       "      <td>NaN</td>\n",
       "    </tr>\n",
       "    <tr>\n",
       "      <th>167891</th>\n",
       "      <td>CVE-2022-24122</td>\n",
       "      <td>Candidate</td>\n",
       "      <td>kernel/ucount.c in the Linux kernel 5.14 throu...</td>\n",
       "      <td>MISC:https://git.kernel.org/cgit/linux/kernel/...</td>\n",
       "      <td>Assigned (20220129)</td>\n",
       "      <td>None (candidate not yet proposed)</td>\n",
       "      <td>NaN</td>\n",
       "    </tr>\n",
       "    <tr>\n",
       "      <th>167892</th>\n",
       "      <td>CVE-2022-24123</td>\n",
       "      <td>Candidate</td>\n",
       "      <td>MarkText through 0.16.3 does not sanitize the ...</td>\n",
       "      <td>MISC:https://github.com/marktext/marktext/issu...</td>\n",
       "      <td>Assigned (20220129)</td>\n",
       "      <td>None (candidate not yet proposed)</td>\n",
       "      <td>NaN</td>\n",
       "    </tr>\n",
       "    <tr>\n",
       "      <th>167893</th>\n",
       "      <td>CVE-2022-24124</td>\n",
       "      <td>Candidate</td>\n",
       "      <td>The query API in Casdoor before 1.13.1 has a S...</td>\n",
       "      <td>MISC:https://github.com/casdoor/casdoor/compar...</td>\n",
       "      <td>Assigned (20220129)</td>\n",
       "      <td>None (candidate not yet proposed)</td>\n",
       "      <td>NaN</td>\n",
       "    </tr>\n",
       "  </tbody>\n",
       "</table>\n",
       "</div>"
      ],
      "text/plain": [
       "                  Name     Status  \\\n",
       "167889  CVE-2022-24032  Candidate   \n",
       "167890  CVE-2022-24071  Candidate   \n",
       "167891  CVE-2022-24122  Candidate   \n",
       "167892  CVE-2022-24123  Candidate   \n",
       "167893  CVE-2022-24124  Candidate   \n",
       "\n",
       "                                              Description  \\\n",
       "167889  Adenza AxiomSL ControllerView through 10.8.1 i...   \n",
       "167890  A Built-in extension in Whale browser before 3...   \n",
       "167891  kernel/ucount.c in the Linux kernel 5.14 throu...   \n",
       "167892  MarkText through 0.16.3 does not sanitize the ...   \n",
       "167893  The query API in Casdoor before 1.13.1 has a S...   \n",
       "\n",
       "                                               References  \\\n",
       "167889  MISC:https://github.com/jdordonezn/CVE-2022-24...   \n",
       "167890  CONFIRM:https://cve.naver.com/detail/cve-2022-...   \n",
       "167891  MISC:https://git.kernel.org/cgit/linux/kernel/...   \n",
       "167892  MISC:https://github.com/marktext/marktext/issu...   \n",
       "167893  MISC:https://github.com/casdoor/casdoor/compar...   \n",
       "\n",
       "                      Phase                              Votes Comments  \n",
       "167889  Assigned (20220126)  None (candidate not yet proposed)      NaN  \n",
       "167890  Assigned (20220127)  None (candidate not yet proposed)      NaN  \n",
       "167891  Assigned (20220129)  None (candidate not yet proposed)      NaN  \n",
       "167892  Assigned (20220129)  None (candidate not yet proposed)      NaN  \n",
       "167893  Assigned (20220129)  None (candidate not yet proposed)      NaN  "
      ]
     },
     "execution_count": 6,
     "metadata": {},
     "output_type": "execute_result"
    }
   ],
   "source": [
    "df.tail()"
   ]
  },
  {
   "cell_type": "markdown",
   "metadata": {},
   "source": [
    "Great, my `df` is the same as yours Adam (your code didn't run on my machine- I've been trying to resolve this). For convenience we create your `desc` which contains the lowercase descriptions of the vulnerabilities."
   ]
  },
  {
   "cell_type": "code",
   "execution_count": 7,
   "metadata": {},
   "outputs": [
    {
     "data": {
      "text/plain": [
       "0    ip_input.c in bsd-derived tcp/ip implementatio...\n",
       "1    buffer overflow in nfs mountd gives root acces...\n",
       "2    execute commands as root via buffer overflow i...\n",
       "Name: Description, dtype: object"
      ]
     },
     "execution_count": 7,
     "metadata": {},
     "output_type": "execute_result"
    }
   ],
   "source": [
    "desc = df['Description'].str.lower()\n",
    "desc[0:3]"
   ]
  },
  {
   "cell_type": "markdown",
   "metadata": {},
   "source": [
    "Now we begin the preprocessing. We start by importing the very useful `nltk` (natural language tool kit) package, and a topic modelling package `gensim`."
   ]
  },
  {
   "cell_type": "code",
   "execution_count": 8,
   "metadata": {},
   "outputs": [
    {
     "name": "stdout",
     "output_type": "stream",
     "text": [
      "Requirement already satisfied: nltk in /Users/willnunn/opt/anaconda3/lib/python3.8/site-packages (3.6.5)\n",
      "Requirement already satisfied: click in /Users/willnunn/opt/anaconda3/lib/python3.8/site-packages (from nltk) (8.0.3)\n",
      "Requirement already satisfied: joblib in /Users/willnunn/opt/anaconda3/lib/python3.8/site-packages (from nltk) (1.1.0)\n",
      "Requirement already satisfied: regex>=2021.8.3 in /Users/willnunn/opt/anaconda3/lib/python3.8/site-packages (from nltk) (2021.11.2)\n",
      "Requirement already satisfied: tqdm in /Users/willnunn/opt/anaconda3/lib/python3.8/site-packages (from nltk) (4.62.3)\n",
      "Requirement already satisfied: gensim in /Users/willnunn/opt/anaconda3/lib/python3.8/site-packages (4.1.2)\n",
      "Requirement already satisfied: scipy>=0.18.1 in /Users/willnunn/opt/anaconda3/lib/python3.8/site-packages (from gensim) (1.7.3)\n",
      "Requirement already satisfied: numpy>=1.17.0 in /Users/willnunn/opt/anaconda3/lib/python3.8/site-packages (from gensim) (1.21.2)\n",
      "Requirement already satisfied: smart-open>=1.8.1 in /Users/willnunn/opt/anaconda3/lib/python3.8/site-packages (from gensim) (5.2.1)\n"
     ]
    }
   ],
   "source": [
    "!pip3 install nltk\n",
    "!pip3 install gensim"
   ]
  },
  {
   "cell_type": "code",
   "execution_count": 9,
   "metadata": {},
   "outputs": [],
   "source": [
    "import nltk\n",
    "import gensim"
   ]
  },
  {
   "cell_type": "markdown",
   "metadata": {},
   "source": [
    "Now we want to find lists of stopwords, numbers and punctuation, and remove these from the text entries in our `desc` variable."
   ]
  },
  {
   "cell_type": "code",
   "execution_count": 10,
   "metadata": {},
   "outputs": [],
   "source": [
    "from nltk.corpus import stopwords\n",
    "# nltk.download('stopwords')"
   ]
  },
  {
   "cell_type": "code",
   "execution_count": 11,
   "metadata": {},
   "outputs": [],
   "source": [
    "stop_words = stopwords.words('english')\n",
    "\n",
    "def remove_stop_words(text):\n",
    "    words = text.split(' ')\n",
    "    text1 = \" \".join([i for i in words if i not in stop_words])\n",
    "    return text1"
   ]
  },
  {
   "cell_type": "code",
   "execution_count": 12,
   "metadata": {},
   "outputs": [],
   "source": [
    "def clean_entry(text): \n",
    "    delete_dict = {sp_character: '' for sp_character in string.punctuation + string.digits}\n",
    "    delete_dict[' '] = ' ' \n",
    "    table = str.maketrans(delete_dict)\n",
    "    text1 = text.translate(table)\n",
    "\n",
    "    return text1"
   ]
  },
  {
   "cell_type": "code",
   "execution_count": 13,
   "metadata": {},
   "outputs": [
    {
     "name": "stdout",
     "output_type": "stream",
     "text": [
      "['hi', 'my', 'name', 'is', 'bill', ',', 'you', \"'ll\", 'like', 'to', 'eat', '10', 'beans', '.', 'it', \"'s\", 'cold', '(', '2deg', ')', 'outside', '.']\n"
     ]
    }
   ],
   "source": [
    "from nltk.tokenize import word_tokenize\n",
    "# nltk.download('punkt')\n",
    "\n",
    "test_string = \"hi my name is bill, you'll like to eat 10 beans. it's cold ( 2deg ) outside.\"\n",
    "test_tokens = word_tokenize(test_string)\n",
    "print(test_tokens)"
   ]
  },
  {
   "cell_type": "code",
   "execution_count": 14,
   "metadata": {},
   "outputs": [
    {
     "name": "stdout",
     "output_type": "stream",
     "text": [
      "['hi', 'name', 'bill', 'youll', 'like', 'eat', 'beans', 'cold', 'deg', 'outside']\n",
      "['hi', 'name', 'bill', 'like', 'eat', 'beans', 'cold', 'deg', 'outside']\n"
     ]
    }
   ],
   "source": [
    "test_string1 = remove_stop_words(clean_entry(test_string))\n",
    "print(word_tokenize(test_string1))\n",
    "test_string2 = clean_entry(remove_stop_words(test_string))\n",
    "print(word_tokenize(test_string2))"
   ]
  },
  {
   "cell_type": "markdown",
   "metadata": {},
   "source": [
    "We see here the correct order to apply our functions is removal of stopwords and then cleaning. This is because words like `\"you'll\"` are in our stopword list but `\"youll\"` is not, and thus removing punctuation in the cleaning step messes us up if we do it before removing the stopwords. "
   ]
  },
  {
   "cell_type": "markdown",
   "metadata": {},
   "source": [
    "We may now apply our functions to `desc` to clean it up."
   ]
  },
  {
   "cell_type": "code",
   "execution_count": 15,
   "metadata": {},
   "outputs": [],
   "source": [
    "desc1 = desc.apply(remove_stop_words)\n",
    "desc1 = desc1.apply(clean_entry)"
   ]
  },
  {
   "cell_type": "code",
   "execution_count": 16,
   "metadata": {},
   "outputs": [
    {
     "name": "stdout",
     "output_type": "stream",
     "text": [
      "ip_input.c in bsd-derived tcp/ip implementations allows remote attackers to cause a denial of service (crash or hang) via crafted packets.\n",
      "ipinputc bsdderived tcpip implementations allows remote attackers cause denial service crash hang via crafted packets\n"
     ]
    }
   ],
   "source": [
    "print(desc[0])\n",
    "print(desc1[0])"
   ]
  },
  {
   "cell_type": "markdown",
   "metadata": {},
   "source": [
    "Very irritatingly I found out after doing the above that `gensim` has a list of stopwords which is much more comprehensive than the list in `nltk`. The code below is therefore almost a complete repeat of our `remove_stop_words` function."
   ]
  },
  {
   "cell_type": "code",
   "execution_count": 17,
   "metadata": {},
   "outputs": [
    {
     "name": "stdout",
     "output_type": "stream",
     "text": [
      "['hi', 'like', 'eat', 'beans', 'cold', 'deg', 'outside']\n"
     ]
    }
   ],
   "source": [
    "all_stop_words = gensim.parsing.preprocessing.STOPWORDS\n",
    "\n",
    "def remove_all_stop_words(text):\n",
    "    words = text.split(' ')\n",
    "    text1 = \" \".join([i for i in words if i not in all_stop_words])\n",
    "    return text1\n",
    "\n",
    "test_string3 = remove_all_stop_words(test_string2)\n",
    "print(word_tokenize(test_string3))"
   ]
  },
  {
   "cell_type": "markdown",
   "metadata": {},
   "source": [
    "We can therefore generate produce a sparser representation (I call it `desc2`) of our descriptions than `desc1` if we want to. We see that it gets rid of stuff like `\"via\"`."
   ]
  },
  {
   "cell_type": "code",
   "execution_count": 20,
   "metadata": {},
   "outputs": [
    {
     "data": {
      "text/plain": [
       "'ipinputc bsdderived tcpip implementations allows remote attackers cause denial service crash hang crafted packets'"
      ]
     },
     "execution_count": 20,
     "metadata": {},
     "output_type": "execute_result"
    }
   ],
   "source": [
    "desc2 = desc1.apply(remove_all_stop_words)\n",
    "desc2[0]"
   ]
  },
  {
   "cell_type": "markdown",
   "metadata": {},
   "source": [
    "I didn't quite get to lemmitising today. There are probably packages in gensim just for this- we should have a read before diving straight in (the mistake I made today). Cheers, Bill"
   ]
  }
 ],
 "metadata": {
  "interpreter": {
   "hash": "aee8b7b246df8f9039afb4144a1f6fd8d2ca17a180786b69acc140d282b71a49"
  },
  "kernelspec": {
   "display_name": "Python 3.8.5 64-bit",
   "language": "python",
   "name": "python3"
  },
  "language_info": {
   "codemirror_mode": {
    "name": "ipython",
    "version": 3
   },
   "file_extension": ".py",
   "mimetype": "text/x-python",
   "name": "python",
   "nbconvert_exporter": "python",
   "pygments_lexer": "ipython3",
   "version": "3.8.12"
  },
  "orig_nbformat": 4
 },
 "nbformat": 4,
 "nbformat_minor": 2
}
